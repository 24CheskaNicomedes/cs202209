{
  "nbformat": 4,
  "nbformat_minor": 0,
  "metadata": {
    "colab": {
      "provenance": [],
      "collapsed_sections": [],
      "authorship_tag": "ABX9TyOM1qY1mnY+a4Tlei/eN6qq",
      "include_colab_link": true
    },
    "kernelspec": {
      "name": "python3",
      "display_name": "Python 3"
    },
    "language_info": {
      "name": "python"
    }
  },
  "cells": [
    {
      "cell_type": "markdown",
      "metadata": {
        "id": "view-in-github",
        "colab_type": "text"
      },
      "source": [
        "<a href=\"https://colab.research.google.com/github/24CheskaNicomedes/cs202209/blob/main/4110E224_python_20220921.ipynb\" target=\"_parent\"><img src=\"https://colab.research.google.com/assets/colab-badge.svg\" alt=\"Open In Colab\"/></a>"
      ]
    },
    {
      "cell_type": "code",
      "execution_count": 3,
      "metadata": {
        "colab": {
          "base_uri": "https://localhost:8080/"
        },
        "id": "qEo19ec-pUKw",
        "outputId": "27205c4c-fb02-47ee-c761-6266164b9f5c"
      },
      "outputs": [
        {
          "output_type": "stream",
          "name": "stdout",
          "text": [
            "pandas version: 1.3.5\n",
            "matplotlib version: 3.2.2\n",
            "numpy version: 1.21.6\n",
            "scikit-learn version: 1.0.2\n",
            "tensorflow version: 2.8.2\n",
            "PyTorch version: 1.12.1+cu113\n"
          ]
        }
      ],
      "source": [
        "import pandas as pd\n",
        "print(\"pandas version: %s\" % pd.__version__)\n",
        " \n",
        "import matplotlib\n",
        "print(\"matplotlib version: %s\" % matplotlib.__version__)\n",
        " \n",
        "import numpy as np\n",
        "print(\"numpy version: %s\" % np.__version__)\n",
        " \n",
        "import sklearn\n",
        "print(\"scikit-learn version: %s\" % sklearn.__version__)\n",
        " \n",
        "import tensorflow as tf\n",
        "print(\"tensorflow version: %s\" % tf.__version__)\n",
        " \n",
        "import torch\n",
        "print(\"PyTorch version: %s\" %torch.__version__)"
      ]
    }
  ]
}